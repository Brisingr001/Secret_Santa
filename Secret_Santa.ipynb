{
 "cells": [
  {
   "cell_type": "code",
   "execution_count": 1,
   "metadata": {
    "collapsed": true
   },
   "outputs": [],
   "source": [
    "import copy\n",
    "import random\n",
    "import smtplib\n",
    "from email.MIMEMultipart import MIMEMultipart\n",
    "from email.MIMEText import MIMEText\n",
    "from email.MIMEBase import MIMEBase\n",
    "from email import encoders\n",
    "\n",
    "names = ['Person A','Person B','Person C','Person D']\n",
    "emails = ['Person A email address','Person B email address','Person C email address','Person D email address']\n",
    "\n",
    "def secret_santa(names):\n",
    "    my_list = names\n",
    "    choose = copy.copy(my_list)\n",
    "    result = []\n",
    "    for i in my_list:\n",
    "        names = copy.copy(my_list)\n",
    "        names.pop(names.index(i))\n",
    "        chosen = random.choice(list(set(choose)&set(names)))\n",
    "        result.append((i,chosen))\n",
    "        choose.pop(choose.index(chosen))\n",
    "    return result"
   ]
  },
  {
   "cell_type": "code",
   "execution_count": 2,
   "metadata": {},
   "outputs": [],
   "source": [
    "ss_result = secret_santa(names)\n",
    "final = zip(ss_result,emails)"
   ]
  },
  {
   "cell_type": "code",
   "execution_count": 3,
   "metadata": {},
   "outputs": [
    {
     "name": "stdout",
     "output_type": "stream",
     "text": [
      "mail sent to info@akikoban.net\n",
      "mail sent to Taiyo@tamassy.co.uk\n",
      "mail sent to tamumomo@hotmail.com\n",
      "mail sent to rickykim78@gmail.com\n"
     ]
    }
   ],
   "source": [
    "for x in final:\n",
    "    fromaddr = \"your email address\"\n",
    "    toaddr = x[1]\n",
    "    msg = MIMEMultipart()\n",
    "    msg['From'] = fromaddr\n",
    "    msg['To'] = toaddr\n",
    "    msg['Subject'] = \"SECRET EMAIL FOR SECRET SANTA!\"\n",
    " \n",
    "    body1 = \"Hello, \"+str(x[0][0])\n",
    "    body2 = '''!\\n This is an automated email from Ricky's Secret Santa Python Program.\\n\\nYou drew\\n.......\\n........\\n........\\n'''+str(x[0][1])+\"!!\\n\\nRule Number 1: Please do not tell anyone!\\n\"\n",
    "    body3 = \"Rule Number 2: The budget is 10GBP! \\nWhat are you waiting for? Go ahead and get something nice for \"+str(x[0][1])+\"!\\n\\n\\n\"\n",
    "    body = body1+body2+body3\n",
    "    msg.attach(MIMEText(body, 'plain'))\n",
    "    \n",
    "    filename = \"The image file you put in the same directory with this file\"\n",
    "    attachment = open(\"The image file you put in the same directory with this file(ex: xxxx.jpg)\", \"rb\")\n",
    " \n",
    "    part = MIMEBase('application', 'octet-stream')\n",
    "    part.set_payload((attachment).read())\n",
    "    encoders.encode_base64(part)\n",
    "    part.add_header('Content-Disposition', \"attachment; filename= %s\" % filename)\n",
    " \n",
    "    msg.attach(part)\n",
    " \n",
    " \n",
    "    server = smtplib.SMTP('smtp.gmail.com', 587)\n",
    "    server.starttls()\n",
    "    server.login(fromaddr, \"your gmail password\")\n",
    "    text = msg.as_string()\n",
    "    server.sendmail(fromaddr, toaddr, text)\n",
    "    server.quit()\n",
    "    print \"mail sent to\",x[1]"
   ]
  },
  {
   "cell_type": "code",
   "execution_count": null,
   "metadata": {
    "collapsed": true
   },
   "outputs": [],
   "source": []
  }
 ],
 "metadata": {
  "kernelspec": {
   "display_name": "Python 2",
   "language": "python",
   "name": "python2"
  },
  "language_info": {
   "codemirror_mode": {
    "name": "ipython",
    "version": 2
   },
   "file_extension": ".py",
   "mimetype": "text/x-python",
   "name": "python",
   "nbconvert_exporter": "python",
   "pygments_lexer": "ipython2",
   "version": "2.7.13"
  }
 },
 "nbformat": 4,
 "nbformat_minor": 2
}
